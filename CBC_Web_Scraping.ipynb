{
 "cells": [
  {
   "cell_type": "code",
   "execution_count": null,
   "id": "c32de1dd-372d-4832-b0f2-bfd9fa407b65",
   "metadata": {},
   "outputs": [],
   "source": [
    "!pip3 install requests beautifulsoup4"
   ]
  },
  {
   "cell_type": "code",
   "execution_count": 2,
   "id": "0e56a780-5bdb-4703-bcbd-5b8051a6e67b",
   "metadata": {},
   "outputs": [
    {
     "name": "stdout",
     "output_type": "stream",
     "text": [
      "Collecting textblob\n",
      "  Using cached textblob-0.18.0.post0-py3-none-any.whl.metadata (4.5 kB)\n",
      "Collecting nltk>=3.8 (from textblob)\n",
      "  Downloading nltk-3.8.1-py3-none-any.whl.metadata (2.8 kB)\n",
      "Requirement already satisfied: click in c:\\users\\ramya\\downloads\\anaconda3\\envs\\py310_env\\lib\\site-packages (from nltk>=3.8->textblob) (8.1.7)\n",
      "Requirement already satisfied: joblib in c:\\users\\ramya\\downloads\\anaconda3\\envs\\py310_env\\lib\\site-packages (from nltk>=3.8->textblob) (1.4.2)\n",
      "Collecting regex>=2021.8.3 (from nltk>=3.8->textblob)\n",
      "  Downloading regex-2024.7.24-cp310-cp310-win_amd64.whl.metadata (41 kB)\n",
      "     ---------------------------------------- 0.0/41.5 kB ? eta -:--:--\n",
      "     ---------------------------------------  41.0/41.5 kB 2.0 MB/s eta 0:00:01\n",
      "     ---------------------------------------- 41.5/41.5 kB 1.0 MB/s eta 0:00:00\n",
      "Requirement already satisfied: tqdm in c:\\users\\ramya\\downloads\\anaconda3\\envs\\py310_env\\lib\\site-packages (from nltk>=3.8->textblob) (4.66.4)\n",
      "Requirement already satisfied: colorama in c:\\users\\ramya\\downloads\\anaconda3\\envs\\py310_env\\lib\\site-packages (from click->nltk>=3.8->textblob) (0.4.6)\n",
      "Using cached textblob-0.18.0.post0-py3-none-any.whl (626 kB)\n",
      "Downloading nltk-3.8.1-py3-none-any.whl (1.5 MB)\n",
      "   ---------------------------------------- 0.0/1.5 MB ? eta -:--:--\n",
      "   ------------------------------------- -- 1.4/1.5 MB 89.0 MB/s eta 0:00:01\n",
      "   ---------------------------------------- 1.5/1.5 MB 31.9 MB/s eta 0:00:00\n",
      "Downloading regex-2024.7.24-cp310-cp310-win_amd64.whl (269 kB)\n",
      "   ---------------------------------------- 0.0/269.7 kB ? eta -:--:--\n",
      "   ---------------------------------------- 269.7/269.7 kB ? eta 0:00:00\n",
      "Installing collected packages: regex, nltk, textblob\n",
      "Successfully installed nltk-3.8.1 regex-2024.7.24 textblob-0.18.0.post0\n"
     ]
    }
   ],
   "source": [
    "!pip3 install -U textblob"
   ]
  },
  {
   "cell_type": "code",
   "execution_count": 9,
   "id": "fa89d220-fef8-4b73-ad54-3a2101978e21",
   "metadata": {},
   "outputs": [],
   "source": [
    "import requests\n",
    "from bs4 import BeautifulSoup\n",
    "from textblob import TextBlob\n",
    "import csv"
   ]
  },
  {
   "cell_type": "code",
   "execution_count": 4,
   "id": "beec4315-6ed7-4733-a735-ba1913dfb76b",
   "metadata": {},
   "outputs": [],
   "source": [
    "response = requests.get('https://www.cbc.ca/news/canada/british-columbia')"
   ]
  },
  {
   "cell_type": "code",
   "execution_count": 11,
   "id": "e0943940-a3cd-466b-b741-9d16cb848117",
   "metadata": {},
   "outputs": [
    {
     "name": "stdout",
     "output_type": "stream",
     "text": [
      "CSV file has been written successfully.\n"
     ]
    }
   ],
   "source": [
    "if response.status_code == 200:\n",
    "    soup = BeautifulSoup(response.content, 'html.parser')\n",
    "    headlines = soup.find_all('h3', class_='headline')\n",
    "\n",
    "    with open('cbc_vancouver.csv', 'w', newline='') as f:\n",
    "        w = csv.writer(f)\n",
    "        w.writerow(['Headline', 'Polarity'])\n",
    "        for h in headlines:\n",
    "            headline_text = h.text.strip()\n",
    "            blob = TextBlob(headline_text)\n",
    "            polarity = blob.sentiment.polarity\n",
    "            w.writerow([headline_text, polarity])\n",
    "    print('CSV file has been written successfully.')\n",
    "else:\n",
    "    print(f'Failed to retrieve the web page.')"
   ]
  },
  {
   "cell_type": "code",
   "execution_count": 12,
   "id": "d0c4d857-17d6-4837-aa67-ad666d11fa45",
   "metadata": {},
   "outputs": [],
   "source": [
    "response1 = requests.get('https://www.cbc.ca/news/canada/toronto')"
   ]
  },
  {
   "cell_type": "code",
   "execution_count": 13,
   "id": "f596695f-4f1b-4b8d-b8ff-8130aab6e1bf",
   "metadata": {},
   "outputs": [
    {
     "name": "stdout",
     "output_type": "stream",
     "text": [
      "CSV file has been written successfully.\n"
     ]
    }
   ],
   "source": [
    "if response1.status_code == 200:\n",
    "    soup = BeautifulSoup(response1.content, 'html.parser')\n",
    "    headlines = soup.find_all('h3', class_='headline')\n",
    "\n",
    "    with open('cbc_toronto.csv', 'w', newline='') as f:\n",
    "        w = csv.writer(f)\n",
    "        w.writerow(['Headline', 'Polarity'])\n",
    "        for h in headlines:\n",
    "            headline_text = h.text.strip()\n",
    "            blob = TextBlob(headline_text)\n",
    "            polarity = blob.sentiment.polarity\n",
    "            w.writerow([headline_text, polarity])\n",
    "    print('CSV file has been written successfully.')\n",
    "else:\n",
    "    print(f'Failed to retrieve the web page.')"
   ]
  },
  {
   "cell_type": "code",
   "execution_count": 14,
   "id": "5c0ddefd-0c74-4287-9d69-56bd5f9c6c4b",
   "metadata": {},
   "outputs": [],
   "source": [
    "response2 = requests.get('https://www.cbc.ca/news/canada/ottawa')"
   ]
  },
  {
   "cell_type": "code",
   "execution_count": 15,
   "id": "d5540cb7-945b-495f-9e93-20e2cbe9d41c",
   "metadata": {},
   "outputs": [
    {
     "name": "stdout",
     "output_type": "stream",
     "text": [
      "CSV file has been written successfully.\n"
     ]
    }
   ],
   "source": [
    "if response2.status_code == 200:\n",
    "    soup = BeautifulSoup(response2.content, 'html.parser')\n",
    "    headlines = soup.find_all('h3', class_='headline')\n",
    "\n",
    "    with open('cbc_ottawa.csv', 'w', newline='') as f:\n",
    "        w = csv.writer(f)\n",
    "        w.writerow(['Headline', 'Polarity'])\n",
    "        for h in headlines:\n",
    "            headline_text = h.text.strip()\n",
    "            blob = TextBlob(headline_text)\n",
    "            polarity = blob.sentiment.polarity\n",
    "            w.writerow([headline_text, polarity])\n",
    "    print('CSV file has been written successfully.')\n",
    "else:\n",
    "    print(f'Failed to retrieve the web page.')"
   ]
  },
  {
   "cell_type": "code",
   "execution_count": null,
   "id": "2cba170a-3c10-4e1c-bd5c-f4a0d82576fe",
   "metadata": {},
   "outputs": [],
   "source": []
  }
 ],
 "metadata": {
  "kernelspec": {
   "display_name": "Python 3.10",
   "language": "python",
   "name": "py310_env"
  },
  "language_info": {
   "codemirror_mode": {
    "name": "ipython",
    "version": 3
   },
   "file_extension": ".py",
   "mimetype": "text/x-python",
   "name": "python",
   "nbconvert_exporter": "python",
   "pygments_lexer": "ipython3",
   "version": "3.10.14"
  }
 },
 "nbformat": 4,
 "nbformat_minor": 5
}
